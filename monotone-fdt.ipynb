{
 "cells": [
  {
   "cell_type": "code",
   "execution_count": 1,
   "id": "b76ce26a-884a-4c66-93ac-29a9d9681c87",
   "metadata": {},
   "outputs": [],
   "source": [
    "# Construction of a monotone fuzzy decision tree using\n",
    "# the fuzzy rank discrimination measures introduced in\n",
    "#\n",
    "# C. Marsala and D. Petturiti.\n",
    "# Splitting Rules for Monotone Fuzzy Decision Trees.\n",
    "# In: S. Massanet, S. Montes, D. Ruiz-Aguilera, and M. González-Hidalgo (Eds.),\n",
    "# Fuzzy Logic and Technology, and Aggregation Operators,\n",
    "# Volume 14069 of Lecture Notes in Computer Science, Springer, pp. 161-173, 2023."
   ]
  },
  {
   "cell_type": "code",
   "execution_count": 2,
   "id": "b895a2ef-1972-4343-855d-06c4846e72e8",
   "metadata": {},
   "outputs": [],
   "source": [
    "import matplotlib.pyplot as plt\n",
    "import numpy as np"
   ]
  },
  {
   "cell_type": "code",
   "execution_count": 3,
   "id": "1bcd3336-4a9e-414b-94fc-f43cf3b85737",
   "metadata": {},
   "outputs": [],
   "source": [
    "# Generate a fuzzy partition in the sense of Ruspini"
   ]
  },
  {
   "cell_type": "code",
   "execution_count": 4,
   "id": "ee16037d-52cf-408c-a8a0-f242413f03e4",
   "metadata": {},
   "outputs": [],
   "source": [
    "def low(x):\n",
    "    if 0 <= x and x < 2:\n",
    "        return 1\n",
    "    if 2 <= x and x < 4:\n",
    "        return -x/2. + 2\n",
    "    return 0"
   ]
  },
  {
   "cell_type": "code",
   "execution_count": 5,
   "id": "27358818-5296-4365-8694-b5b62085bfe2",
   "metadata": {},
   "outputs": [],
   "source": [
    "def medium(x):\n",
    "    if 2 <= x and x < 4:\n",
    "        return x/2. - 1\n",
    "    if 4 <= x and x < 6:\n",
    "        return 1\n",
    "    if 6 <= x and x < 8:\n",
    "        return -x/2. + 4\n",
    "    return 0"
   ]
  },
  {
   "cell_type": "code",
   "execution_count": 6,
   "id": "2be4f76c-63c6-4252-9011-1e80bbc6fde1",
   "metadata": {},
   "outputs": [],
   "source": [
    "def high(x):\n",
    "    if 6 <= x and x < 8:\n",
    "        return x/2. - 3\n",
    "    if 8 <= x and x <= 10:\n",
    "        return 1\n",
    "    return 0"
   ]
  },
  {
   "cell_type": "code",
   "execution_count": 7,
   "id": "749efbb1-7f87-411d-a149-fd5f721b1f88",
   "metadata": {},
   "outputs": [],
   "source": [
    "x = np.arange(0,10.5,0.5)\n",
    "low_v = np.vectorize(low, otypes=[np.float32])\n",
    "medium_v = np.vectorize(medium, otypes=[np.float32])\n",
    "high_v = np.vectorize(high, otypes=[np.float32])"
   ]
  },
  {
   "cell_type": "code",
   "execution_count": 8,
   "id": "a86845e3-d7e7-4052-b43e-bf2b03199033",
   "metadata": {},
   "outputs": [],
   "source": [
    "y_low = low_v(x)\n",
    "y_medium = medium_v(x)\n",
    "y_high = high_v(x)"
   ]
  },
  {
   "cell_type": "code",
   "execution_count": 9,
   "id": "5ad61131-26ec-406f-8968-54ab4b1effcd",
   "metadata": {},
   "outputs": [
    {
     "data": {
      "image/png": "[encoded data removed]",
      "text/plain": [
       "<Figure size 600x400 with 1 Axes>"
      ]
     },
     "metadata": {},
     "output_type": "display_data"
    }
   ],
   "source": [
    "plt.figure(figsize=(6, 4))\n",
    "plt.title('Fuzzy partition')\n",
    "plt.plot(x, y_low,c='blue', label='low')\n",
    "plt.plot(x, y_medium,c='red', label='medium')\n",
    "plt.plot(x, y_high,c='green', label='high')\n",
    "plt.xlabel('x')\n",
    "plt.ylabel('Membership')\n",
    "plt.legend()\n",
    "plt.savefig('Partition.png', dpi=300)"
   ]
  },
  {
   "cell_type": "code",
   "execution_count": 10,
   "id": "d4af044a-2fa4-4d2d-ade0-ed3117f647a8",
   "metadata": {},
   "outputs": [],
   "source": [
    "# Generate a fuzzy dataset"
   ]
  },
  {
   "cell_type": "code",
   "execution_count": 11,
   "id": "8492632a-cee4-47c7-a32e-e9884ceb1804",
   "metadata": {},
   "outputs": [],
   "source": [
    "n = 1000"
   ]
  },
  {
   "cell_type": "code",
   "execution_count": 12,
   "id": "75663f25-686b-43e3-ad2d-a064c8480987",
   "metadata": {},
   "outputs": [
    {
     "data": {
      "text/plain": [
       "array([[6.36961687, 2.69786714, 0.40973524],\n",
       "       [0.16527636, 8.13270239, 9.12755577],\n",
       "       [6.06635776, 7.29496561, 5.43624991],\n",
       "       ...,\n",
       "       [1.02789398, 6.0866026 , 4.38097218],\n",
       "       [9.52057033, 1.28335372, 7.78216809],\n",
       "       [0.2483448 , 2.07652949, 3.0052863 ]])"
      ]
     },
     "execution_count": 12,
     "metadata": {},
     "output_type": "execute_result"
    }
   ],
   "source": [
    "rng = np.random.default_rng(0)\n",
    "A = rng.uniform(low=0, high=10, size=(n, 3))\n",
    "A"
   ]
  },
  {
   "cell_type": "code",
   "execution_count": 13,
   "id": "8d77e1a6-caba-42ca-9c3d-e47f03ef02ce",
   "metadata": {},
   "outputs": [],
   "source": [
    "A1 = A[:, 0]\n",
    "A2 = A[:, 1]\n",
    "A3 = A[:, 2]\n",
    "Lambda = np.maximum(np.maximum(A1,A2**2 / 10), A2**3 / 100)"
   ]
  },
  {
   "cell_type": "code",
   "execution_count": 14,
   "id": "85f565d0-045b-4f00-b6f9-d52a8d7806ff",
   "metadata": {},
   "outputs": [],
   "source": [
    "a1 = np.array([low_v(A1), medium_v(A1), high_v(A1)]).T\n",
    "a2 = np.array([low_v(A2), medium_v(A2), high_v(A2)]).T\n",
    "a3 = np.array([low_v(A3), medium_v(A3), high_v(A3)]).T\n",
    "l = np.array([low_v(Lambda), medium_v(Lambda), high_v(Lambda)]).T"
   ]
  },
  {
   "cell_type": "code",
   "execution_count": 15,
   "id": "2269305a-25e3-4c25-9d5e-b9a7120da2a9",
   "metadata": {},
   "outputs": [],
   "source": [
    "# Functions to implement the fuzzy dominant sets"
   ]
  },
  {
   "cell_type": "code",
   "execution_count": 16,
   "id": "66436710-77db-4450-b568-b18c8b72d596",
   "metadata": {},
   "outputs": [],
   "source": [
    "def P_less(p_i, p_h):\n",
    "    tot = 0\n",
    "    for s in range(3):\n",
    "        for q in range(3):\n",
    "            if s < q:\n",
    "                tot += p_i[s] * p_h[q]\n",
    "    return tot"
   ]
  },
  {
   "cell_type": "code",
   "execution_count": 17,
   "id": "cbc59a51-0280-4951-b9cd-4c6a192eacb8",
   "metadata": {},
   "outputs": [],
   "source": [
    "def P_greater(p_i, p_h):\n",
    "    tot = 0\n",
    "    for s in range(3):\n",
    "        for q in range(3):\n",
    "            if s > q:\n",
    "                tot += p_i[s] * p_h[q]\n",
    "    return tot"
   ]
  },
  {
   "cell_type": "code",
   "execution_count": 18,
   "id": "f599fe20-d095-41ed-b307-62916016a49c",
   "metadata": {},
   "outputs": [],
   "source": [
    "def R_rel(a):\n",
    "    R = np.zeros([len(a), len(a)])\n",
    "    P = np.zeros([len(a), len(a)])\n",
    "    I = np.zeros([len(a), len(a)])\n",
    "    for i in range(len(a)):\n",
    "        for h in range(len(a)):\n",
    "            if i == h:\n",
    "                P[i, h] = 0\n",
    "                I[i, h] = 1\n",
    "            else:\n",
    "                P[i, h] = max(P_less(a[i], a[h]) - P_greater(a[i], a[h]),0)\n",
    "                I[i, h] = 1 - abs(P_less(a[i], a[h]) - P_greater(a[i], a[h]))\n",
    "            R[i, h] = P[i, h] + I[i, h]\n",
    "    return R"
   ]
  },
  {
   "cell_type": "code",
   "execution_count": 19,
   "id": "64056a43-68f3-4dea-be7d-291befa6545c",
   "metadata": {},
   "outputs": [],
   "source": [
    "# Functions to implement the fuzzy rank discrimination measures"
   ]
  },
  {
   "cell_type": "code",
   "execution_count": 20,
   "id": "fdbdc683-5f46-4e67-9abd-41f29a38d61b",
   "metadata": {},
   "outputs": [],
   "source": [
    "# Fuzzy interection based on the Lukasiewicz t-norm\n",
    "def Luk_int(A, B):\n",
    "    return np.maximum(A + B - 1, 0)"
   ]
  },
  {
   "cell_type": "code",
   "execution_count": 21,
   "id": "713f9698-9c97-49af-8796-0ae45f067ef2",
   "metadata": {},
   "outputs": [],
   "source": [
    "# Fuzzy rank Gini discrimination measure\n",
    "def H_G(Rl, Ra):\n",
    "    tot = 0\n",
    "    for i in range(len(Rl)):\n",
    "        tot += (1 - (Luk_int(Rl[i,:], Ra[i,:]).sum() / Ra[i,:].sum()))\n",
    "    return tot / len(Rl)"
   ]
  },
  {
   "cell_type": "code",
   "execution_count": 22,
   "id": "e6192518-27b5-4b1b-b7d0-85cc6a63ab12",
   "metadata": {},
   "outputs": [],
   "source": [
    "# Fuzzy rank Shannon discrimination measure\n",
    "def H_S(Rl, Ra):\n",
    "    tot = 0\n",
    "    for i in range(len(Rl)):\n",
    "        tot += - (np.log((Luk_int(Rl[i,:], Ra[i,:]).sum() / Ra[i,:].sum())) / np.log(2))\n",
    "    return tot / len(Rl)"
   ]
  },
  {
   "cell_type": "code",
   "execution_count": 23,
   "id": "666df811-0852-4ee4-85ff-25dacf00e789",
   "metadata": {},
   "outputs": [],
   "source": [
    "# Generate the dominant sets\n",
    "R1 = R_rel(a1)\n",
    "R2 = R_rel(a2)\n",
    "R3 = R_rel(a3)\n",
    "Rl = R_rel(l)"
   ]
  },
  {
   "cell_type": "code",
   "execution_count": 24,
   "id": "73350847-c3a4-4b1f-ba3e-8ccccc4a016b",
   "metadata": {},
   "outputs": [],
   "source": [
    "# Compute the fuzzy rank Gini discrimination measure"
   ]
  },
  {
   "cell_type": "code",
   "execution_count": 25,
   "id": "353b54d6-ae25-4700-8e36-088d9a83cee3",
   "metadata": {},
   "outputs": [
    {
     "data": {
      "text/plain": [
       "0.14271927855111036"
      ]
     },
     "execution_count": 25,
     "metadata": {},
     "output_type": "execute_result"
    }
   ],
   "source": [
    "H_G(Rl, R1)"
   ]
  },
  {
   "cell_type": "code",
   "execution_count": 26,
   "id": "c3ae982e-5fed-4051-9fe1-d58f79458335",
   "metadata": {},
   "outputs": [
    {
     "data": {
      "text/plain": [
       "0.24185624098392436"
      ]
     },
     "execution_count": 26,
     "metadata": {},
     "output_type": "execute_result"
    }
   ],
   "source": [
    "H_G(Rl, R2)"
   ]
  },
  {
   "cell_type": "code",
   "execution_count": 27,
   "id": "d27a2677-f1d4-4780-869f-aa8b41f0ebe0",
   "metadata": {},
   "outputs": [
    {
     "data": {
      "text/plain": [
       "0.31307810276271303"
      ]
     },
     "execution_count": 27,
     "metadata": {},
     "output_type": "execute_result"
    }
   ],
   "source": [
    "H_G(Rl, R3)"
   ]
  },
  {
   "cell_type": "code",
   "execution_count": 28,
   "id": "99c3eb04-fc4d-4320-aa30-ad6a75a3ff08",
   "metadata": {},
   "outputs": [],
   "source": [
    "# Compute the fuzzy rank Shannon discrimination measure"
   ]
  },
  {
   "cell_type": "code",
   "execution_count": 29,
   "id": "3072bc89-54b1-499c-be23-d6d1a0466591",
   "metadata": {},
   "outputs": [
    {
     "data": {
      "text/plain": [
       "0.24751438830073733"
      ]
     },
     "execution_count": 29,
     "metadata": {},
     "output_type": "execute_result"
    }
   ],
   "source": [
    "H_S(Rl, R1)"
   ]
  },
  {
   "cell_type": "code",
   "execution_count": 30,
   "id": "016d46b9-2f2b-4539-b9f1-75972ee586d3",
   "metadata": {},
   "outputs": [
    {
     "data": {
      "text/plain": [
       "0.4546588964279144"
      ]
     },
     "execution_count": 30,
     "metadata": {},
     "output_type": "execute_result"
    }
   ],
   "source": [
    "H_S(Rl, R2)"
   ]
  },
  {
   "cell_type": "code",
   "execution_count": 31,
   "id": "17222068-e08a-402d-a135-28e8e03ce0a0",
   "metadata": {},
   "outputs": [
    {
     "data": {
      "text/plain": [
       "0.6273763034997201"
      ]
     },
     "execution_count": 31,
     "metadata": {},
     "output_type": "execute_result"
    }
   ],
   "source": [
    "H_S(Rl, R3)"
   ]
  },
  {
   "cell_type": "code",
   "execution_count": 32,
   "id": "1be99816-e1f4-4360-ba90-4ab430a5850f",
   "metadata": {},
   "outputs": [
    {
     "name": "stdout",
     "output_type": "stream",
     "text": [
      "0.15964773 0.4265955 0.4265955 0.4265955\n"
     ]
    }
   ],
   "source": [
    "# Splitting thresholds\n",
    "a_l_low_0 = l[:,0].mean()\n",
    "a_l_medium_0 = l[:,1].mean()\n",
    "a_l_high_0 = l[:,1].mean()\n",
    "a_l_0 = max(a_l_low_0,a_l_medium_0,a_l_high_0)\n",
    "print(a_l_low_0, a_l_medium_0, a_l_high_0, a_l_0)"
   ]
  },
  {
   "cell_type": "code",
   "execution_count": 33,
   "id": "19fc8aad-1c4c-4761-ae6e-aef77c756f7f",
   "metadata": {},
   "outputs": [
    {
     "name": "stdout",
     "output_type": "stream",
     "text": [
      "0.16 0.466 0.431\n"
     ]
    }
   ],
   "source": [
    "# Percentages of objects above the thresholds\n",
    "I_C_low = l[:,0] >= a_l_0\n",
    "p_low = len(l[I_C_low]) / len(l)\n",
    "I_C_medium = l[:,1] >= a_l_0\n",
    "p_medium = len(l[I_C_medium]) / len(l)\n",
    "I_C_high = l[:,2] >= a_l_0\n",
    "p_high = len(l[I_C_high]) / len(l)\n",
    "print(p_low, p_medium, p_high)"
   ]
  },
  {
   "cell_type": "code",
   "execution_count": 34,
   "id": "f451243d-5ca7-41d1-b084-09013bec7062",
   "metadata": {},
   "outputs": [
    {
     "data": {
      "text/plain": [
       "0.2974377"
      ]
     },
     "execution_count": 34,
     "metadata": {},
     "output_type": "execute_result"
    }
   ],
   "source": [
    "a3[:,0].mean()"
   ]
  },
  {
   "cell_type": "code",
   "execution_count": 35,
   "id": "33d38e60-84c5-455b-bbd7-6ba2297d85f8",
   "metadata": {},
   "outputs": [
    {
     "data": {
      "text/plain": [
       "0.4075321"
      ]
     },
     "execution_count": 35,
     "metadata": {},
     "output_type": "execute_result"
    }
   ],
   "source": [
    "a3[:,1].mean()"
   ]
  },
  {
   "cell_type": "code",
   "execution_count": 36,
   "id": "bb33f6d4-4e3f-4d07-b673-3db7c45e55f9",
   "metadata": {},
   "outputs": [
    {
     "data": {
      "text/plain": [
       "0.2950302"
      ]
     },
     "execution_count": 36,
     "metadata": {},
     "output_type": "execute_result"
    }
   ],
   "source": [
    "a3[:,2].mean()"
   ]
  },
  {
   "cell_type": "code",
   "execution_count": 37,
   "id": "9485e279-5969-4ba3-b373-790e3c040e23",
   "metadata": {},
   "outputs": [
    {
     "data": {
      "text/plain": [
       "1.0"
      ]
     },
     "execution_count": 37,
     "metadata": {},
     "output_type": "execute_result"
    }
   ],
   "source": [
    "a3[:,0].mean() + a3[:,1].mean() + a3[:,2].mean()"
   ]
  },
  {
   "cell_type": "code",
   "execution_count": 38,
   "id": "f37e03c2-71da-467c-984c-ed93ba293427",
   "metadata": {},
   "outputs": [
    {
     "name": "stdout",
     "output_type": "stream",
     "text": [
      "322 440 322\n"
     ]
    }
   ],
   "source": [
    "I_low = a1[:,0] >= max(a1[:,0].mean(), a1[:,1].mean(), a1[:,2].mean())\n",
    "I_medium = a1[:,1] >= max(a1[:,0].mean(), a1[:,1].mean(), a1[:,2].mean())\n",
    "I_high = a1[:,2] >= max(a1[:,0].mean(), a1[:,1].mean(), a1[:,2].mean())\n",
    "print(len(I_low[I_low == True]), len(I_medium[I_medium == True]), len(I_high[I_high == True]))"
   ]
  },
  {
   "cell_type": "code",
   "execution_count": 39,
   "id": "42d926c3-c73f-4b45-80e0-95d62405f04b",
   "metadata": {},
   "outputs": [
    {
     "data": {
      "text/plain": [
       "42"
      ]
     },
     "execution_count": 39,
     "metadata": {},
     "output_type": "execute_result"
    }
   ],
   "source": [
    "I_low_medium = I_low & I_medium\n",
    "len(I_low_medium[I_low_medium == True])"
   ]
  },
  {
   "cell_type": "code",
   "execution_count": 40,
   "id": "d6804ed3-0e6f-4187-8ba5-64039f4fcccb",
   "metadata": {},
   "outputs": [
    {
     "data": {
      "text/plain": [
       "0"
      ]
     },
     "execution_count": 40,
     "metadata": {},
     "output_type": "execute_result"
    }
   ],
   "source": [
    "I_low_high = I_low & I_high\n",
    "len(I_low_high[I_low_high == True])"
   ]
  },
  {
   "cell_type": "code",
   "execution_count": 41,
   "id": "ae34f16b-2593-49e2-ad51-192b10434cbe",
   "metadata": {},
   "outputs": [
    {
     "data": {
      "text/plain": [
       "42"
      ]
     },
     "execution_count": 41,
     "metadata": {},
     "output_type": "execute_result"
    }
   ],
   "source": [
    "I_medium_high = I_medium & I_high\n",
    "len(I_medium_high[I_medium_high == True])"
   ]
  },
  {
   "cell_type": "code",
   "execution_count": 42,
   "id": "03b3ed71-1772-4975-afe6-9e01d7667eb3",
   "metadata": {},
   "outputs": [],
   "source": [
    "# LOW\n",
    "a1_1_low = a1[I_low]\n",
    "a2_1_low = a2[I_low]\n",
    "a3_1_low = a3[I_low]\n",
    "l_1_low = l[I_low]"
   ]
  },
  {
   "cell_type": "code",
   "execution_count": 43,
   "id": "70b38b9a-70da-45c5-8340-00456fe0fc84",
   "metadata": {},
   "outputs": [
    {
     "data": {
      "text/plain": [
       "0.4813664596273292"
      ]
     },
     "execution_count": 43,
     "metadata": {},
     "output_type": "execute_result"
    }
   ],
   "source": [
    "I_C_low = l_1_low[:,0] >= max(l_1_low[:,0].mean(), l_1_low[:,1].mean(), l_1_low[:,2].mean())\n",
    "len(l_1_low[I_C_low]) / len(l_1_low)"
   ]
  },
  {
   "cell_type": "code",
   "execution_count": 44,
   "id": "98b52ca9-811f-45aa-910b-73592221dfc9",
   "metadata": {},
   "outputs": [
    {
     "data": {
      "text/plain": [
       "0.40062111801242234"
      ]
     },
     "execution_count": 44,
     "metadata": {},
     "output_type": "execute_result"
    }
   ],
   "source": [
    "I_C_low = l_1_low[:,1] >= max(l_1_low[:,0].mean(), l_1_low[:,1].mean(), l_1_low[:,2].mean())\n",
    "len(l_1_low[I_C_low]) / len(l_1_low)"
   ]
  },
  {
   "cell_type": "code",
   "execution_count": 45,
   "id": "6eb1c773-5def-4817-b04b-ddf27bd3dfa9",
   "metadata": {},
   "outputs": [
    {
     "data": {
      "text/plain": [
       "0.16149068322981366"
      ]
     },
     "execution_count": 45,
     "metadata": {},
     "output_type": "execute_result"
    }
   ],
   "source": [
    "I_C_low = l_1_low[:,2] >= max(l_1_low[:,0].mean(), l_1_low[:,1].mean(), l_1_low[:,2].mean())\n",
    "len(l_1_low[I_C_low]) / len(l_1_low)"
   ]
  },
  {
   "cell_type": "code",
   "execution_count": 46,
   "id": "d4b46d35-693e-497d-b2a7-5d5d312ccf4f",
   "metadata": {},
   "outputs": [],
   "source": [
    "# Generate the dominant sets\n",
    "R2 = R_rel(a2_1_low)\n",
    "R3 = R_rel(a3_1_low)\n",
    "Rl = R_rel(l_1_low)"
   ]
  },
  {
   "cell_type": "code",
   "execution_count": 47,
   "id": "dab709c3-c75a-4360-8609-82ffa0b4408e",
   "metadata": {},
   "outputs": [],
   "source": [
    "# Compute the fuzzy rank Gini discrimination measure"
   ]
  },
  {
   "cell_type": "code",
   "execution_count": 48,
   "id": "8485dd9a-6aba-4a22-b6bd-81249d4baf15",
   "metadata": {},
   "outputs": [
    {
     "data": {
      "text/plain": [
       "0.16909725580725396"
      ]
     },
     "execution_count": 48,
     "metadata": {},
     "output_type": "execute_result"
    }
   ],
   "source": [
    "H_G(Rl, R2)"
   ]
  },
  {
   "cell_type": "code",
   "execution_count": 49,
   "id": "f29413f2-a47f-48a9-a7a7-10761ad9e5e1",
   "metadata": {},
   "outputs": [
    {
     "data": {
      "text/plain": [
       "0.31941054046021294"
      ]
     },
     "execution_count": 49,
     "metadata": {},
     "output_type": "execute_result"
    }
   ],
   "source": [
    "H_G(Rl, R3)"
   ]
  },
  {
   "cell_type": "code",
   "execution_count": 50,
   "id": "d642704d-f4cb-46ad-b970-5eb18175d5e8",
   "metadata": {},
   "outputs": [],
   "source": [
    "# Compute the fuzzy rank Shannon discrimination measure"
   ]
  },
  {
   "cell_type": "code",
   "execution_count": 51,
   "id": "6efac45d-f5f8-436f-9351-2684715ea89e",
   "metadata": {},
   "outputs": [
    {
     "data": {
      "text/plain": [
       "0.30011543047678624"
      ]
     },
     "execution_count": 51,
     "metadata": {},
     "output_type": "execute_result"
    }
   ],
   "source": [
    "H_S(Rl, R2)"
   ]
  },
  {
   "cell_type": "code",
   "execution_count": 52,
   "id": "494917bc-21dd-40d4-be58-8124ac7a7d8f",
   "metadata": {},
   "outputs": [
    {
     "data": {
      "text/plain": [
       "0.7779747715057344"
      ]
     },
     "execution_count": 52,
     "metadata": {},
     "output_type": "execute_result"
    }
   ],
   "source": [
    "H_S(Rl, R3)"
   ]
  },
  {
   "cell_type": "code",
   "execution_count": 53,
   "id": "3f48584c-5f34-45bb-80b0-117db89ee736",
   "metadata": {},
   "outputs": [
    {
     "name": "stdout",
     "output_type": "stream",
     "text": [
      "93 140 111\n"
     ]
    }
   ],
   "source": [
    "I_low = a2_1_low[:,0] >= max(a2_1_low[:,0].mean(), a2_1_low[:,1].mean(), a2_1_low[:,2].mean())\n",
    "I_medium = a2_1_low[:,1] >= max(a2_1_low[:,0].mean(), a2_1_low[:,1].mean(), a2_1_low[:,2].mean())\n",
    "I_high = a2_1_low[:,2] >= max(a2_1_low[:,0].mean(), a2_1_low[:,1].mean(), a2_1_low[:,2].mean())\n",
    "print(len(I_low[I_low == True]), len(I_medium[I_medium == True]), len(I_high[I_high == True]))"
   ]
  },
  {
   "cell_type": "code",
   "execution_count": 54,
   "id": "9c269440-ae2c-4bac-917b-515c56d939a4",
   "metadata": {},
   "outputs": [
    {
     "name": "stdout",
     "output_type": "stream",
     "text": [
      "10 0 12\n"
     ]
    }
   ],
   "source": [
    "I_low_medium = I_low & I_medium\n",
    "i1 = len(I_low_medium[I_low_medium == True])\n",
    "I_low_high = I_low & I_high\n",
    "i2 = len(I_low_high[I_low_high == True])\n",
    "I_medium_high = I_medium & I_high\n",
    "i3 = len(I_medium_high[I_medium_high == True])\n",
    "print(i1, i2, i3)"
   ]
  },
  {
   "cell_type": "code",
   "execution_count": 55,
   "id": "b5a2f0c8-a0bf-4a41-8e45-95b070102c69",
   "metadata": {},
   "outputs": [
    {
     "name": "stdout",
     "output_type": "stream",
     "text": [
      "322 440 322\n"
     ]
    }
   ],
   "source": [
    "# MEDIUM\n",
    "I_low = a1[:,0] >= max(a1[:,0].mean(), a1[:,1].mean(), a1[:,2].mean())\n",
    "I_medium = a1[:,1] >= max(a1[:,0].mean(), a1[:,1].mean(), a1[:,2].mean())\n",
    "I_high = a1[:,2] >= max(a1[:,0].mean(), a1[:,1].mean(), a1[:,2].mean())\n",
    "print(len(I_low[I_low == True]), len(I_medium[I_medium == True]), len(I_high[I_high == True]))\n",
    "#\n",
    "a1_1_medium = a1[I_medium]\n",
    "a2_1_medium = a2[I_medium]\n",
    "a3_1_medium = a3[I_medium]\n",
    "l_1_medium = l[I_medium]"
   ]
  },
  {
   "cell_type": "code",
   "execution_count": 56,
   "id": "1a45dd1c-c614-4c65-926a-439683dd5a64",
   "metadata": {},
   "outputs": [
    {
     "data": {
      "text/plain": [
       "0.0"
      ]
     },
     "execution_count": 56,
     "metadata": {},
     "output_type": "execute_result"
    }
   ],
   "source": [
    "I_C_medium = l_1_medium[:,0] >= max(l_1_medium[:,0].mean(), l_1_medium[:,1].mean(), l_1_medium[:,2].mean())\n",
    "len(l_1_medium[I_C_medium]) / len(l_1_medium)"
   ]
  },
  {
   "cell_type": "code",
   "execution_count": 57,
   "id": "abb78114-4f81-43d4-8058-bdeee6f81495",
   "metadata": {},
   "outputs": [
    {
     "data": {
      "text/plain": [
       "0.5954545454545455"
      ]
     },
     "execution_count": 57,
     "metadata": {},
     "output_type": "execute_result"
    }
   ],
   "source": [
    "I_C_medium = l_1_medium[:,1] >= max(l_1_medium[:,0].mean(), l_1_medium[:,1].mean(), l_1_medium[:,2].mean())\n",
    "len(l_1_medium[I_C_medium]) / len(l_1_medium)"
   ]
  },
  {
   "cell_type": "code",
   "execution_count": 58,
   "id": "dd506183-626b-46de-b85b-9239a52cfe06",
   "metadata": {},
   "outputs": [
    {
     "data": {
      "text/plain": [
       "0.12272727272727273"
      ]
     },
     "execution_count": 58,
     "metadata": {},
     "output_type": "execute_result"
    }
   ],
   "source": [
    "I_C_medium = l_1_medium[:,2] >= max(l_1_medium[:,0].mean(), l_1_medium[:,1].mean(), l_1_medium[:,2].mean())\n",
    "len(l_1_medium[I_C_medium]) / len(l_1_medium)"
   ]
  },
  {
   "cell_type": "code",
   "execution_count": 59,
   "id": "d8d41668-a2e8-4764-bfda-12dbe4409cf6",
   "metadata": {},
   "outputs": [],
   "source": [
    "# Generate the dominant sets\n",
    "R2 = R_rel(a2_1_medium)\n",
    "R3 = R_rel(a3_1_medium)\n",
    "Rl = R_rel(l_1_medium)"
   ]
  },
  {
   "cell_type": "code",
   "execution_count": 60,
   "id": "f0981c98-07fa-4ca6-80b9-898ebba114f8",
   "metadata": {},
   "outputs": [],
   "source": [
    "# Compute the fuzzy rank Gini discrimination measure"
   ]
  },
  {
   "cell_type": "code",
   "execution_count": 61,
   "id": "3ad45b2f-bebb-42bf-abbf-c64228d99570",
   "metadata": {},
   "outputs": [
    {
     "data": {
      "text/plain": [
       "0.14317365096538814"
      ]
     },
     "execution_count": 61,
     "metadata": {},
     "output_type": "execute_result"
    }
   ],
   "source": [
    "H_G(Rl, R2)"
   ]
  },
  {
   "cell_type": "code",
   "execution_count": 62,
   "id": "ebdd3aee-b79d-4d93-9421-d0a6b0ef2061",
   "metadata": {},
   "outputs": [
    {
     "data": {
      "text/plain": [
       "0.20922022948878655"
      ]
     },
     "execution_count": 62,
     "metadata": {},
     "output_type": "execute_result"
    }
   ],
   "source": [
    "H_G(Rl, R3)"
   ]
  },
  {
   "cell_type": "code",
   "execution_count": 63,
   "id": "874d2c27-c7f5-4b8b-a93d-ca90c36a0e0b",
   "metadata": {},
   "outputs": [],
   "source": [
    "# Compute the fuzzy rank Shannon discrimination measure"
   ]
  },
  {
   "cell_type": "code",
   "execution_count": 64,
   "id": "a2bd9996-2a88-4662-9c20-6bf9efd5bcd2",
   "metadata": {},
   "outputs": [
    {
     "data": {
      "text/plain": [
       "0.25053863100575224"
      ]
     },
     "execution_count": 64,
     "metadata": {},
     "output_type": "execute_result"
    }
   ],
   "source": [
    "H_S(Rl, R2)"
   ]
  },
  {
   "cell_type": "code",
   "execution_count": 65,
   "id": "c7d1cdfe-c999-47d8-aed4-258c7aad73fb",
   "metadata": {},
   "outputs": [
    {
     "data": {
      "text/plain": [
       "0.46045795365080977"
      ]
     },
     "execution_count": 65,
     "metadata": {},
     "output_type": "execute_result"
    }
   ],
   "source": [
    "H_S(Rl, R3)"
   ]
  },
  {
   "cell_type": "code",
   "execution_count": 66,
   "id": "4f011aa7-3520-45a3-87e9-4467eb242304",
   "metadata": {},
   "outputs": [
    {
     "name": "stdout",
     "output_type": "stream",
     "text": [
      "138 186 148\n"
     ]
    }
   ],
   "source": [
    "I_low = a2_1_medium[:,0] >= max(a2_1_medium[:,0].mean(), a2_1_medium[:,1].mean(), a2_1_medium[:,2].mean())\n",
    "I_medium = a2_1_medium[:,1] >= max(a2_1_medium[:,0].mean(), a2_1_medium[:,1].mean(), a2_1_medium[:,2].mean())\n",
    "I_high = a2_1_medium[:,2] >= max(a2_1_medium[:,0].mean(), a2_1_medium[:,1].mean(), a2_1_medium[:,2].mean())\n",
    "print(len(I_low[I_low == True]), len(I_medium[I_medium == True]), len(I_high[I_high == True]))"
   ]
  },
  {
   "cell_type": "code",
   "execution_count": 67,
   "id": "382661b8-6348-424e-8cb0-8331d44edc2b",
   "metadata": {},
   "outputs": [
    {
     "name": "stdout",
     "output_type": "stream",
     "text": [
      "14 0 18\n"
     ]
    }
   ],
   "source": [
    "I_low_medium = I_low & I_medium\n",
    "i1 = len(I_low_medium[I_low_medium == True])\n",
    "I_low_high = I_low & I_high\n",
    "i2 = len(I_low_high[I_low_high == True])\n",
    "I_medium_high = I_medium & I_high\n",
    "i3 = len(I_medium_high[I_medium_high == True])\n",
    "print(i1, i2, i3)"
   ]
  },
  {
   "cell_type": "code",
   "execution_count": 68,
   "id": "0ad9e8a2-a851-4e90-b614-c61641f5f000",
   "metadata": {},
   "outputs": [
    {
     "name": "stdout",
     "output_type": "stream",
     "text": [
      "322 440 322\n"
     ]
    }
   ],
   "source": [
    "# high\n",
    "I_low = a1[:,0] >= max(a1[:,0].mean(), a1[:,1].mean(), a1[:,2].mean())\n",
    "I_medium = a1[:,1] >= max(a1[:,0].mean(), a1[:,1].mean(), a1[:,2].mean())\n",
    "I_high = a1[:,2] >= max(a1[:,0].mean(), a1[:,1].mean(), a1[:,2].mean())\n",
    "print(len(I_low[I_low == True]), len(I_medium[I_medium == True]), len(I_high[I_high == True]))\n",
    "a1_1_high = a1[I_high]\n",
    "a2_1_high = a2[I_high]\n",
    "a3_1_high = a3[I_high]\n",
    "l_1_high = l[I_high]"
   ]
  },
  {
   "cell_type": "code",
   "execution_count": 69,
   "id": "f7d3447d-8e73-4318-9a46-a992af5271b4",
   "metadata": {},
   "outputs": [
    {
     "data": {
      "text/plain": [
       "0.0"
      ]
     },
     "execution_count": 69,
     "metadata": {},
     "output_type": "execute_result"
    }
   ],
   "source": [
    "I_C_high = l_1_high[:,0] >= max(l_1_high[:,0].mean(), l_1_high[:,1].mean(), l_1_high[:,2].mean())\n",
    "len(l_1_high[I_C_high]) / len(l_1_high)"
   ]
  },
  {
   "cell_type": "code",
   "execution_count": 70,
   "id": "5099d8bd-b4c3-4b7e-8587-e9e229243f02",
   "metadata": {},
   "outputs": [
    {
     "data": {
      "text/plain": [
       "0.0"
      ]
     },
     "execution_count": 70,
     "metadata": {},
     "output_type": "execute_result"
    }
   ],
   "source": [
    "I_C_high = l_1_high[:,1] >= max(l_1_high[:,0].mean(), l_1_high[:,1].mean(), l_1_high[:,2].mean())\n",
    "len(l_1_high[I_C_high]) / len(l_1_high)"
   ]
  },
  {
   "cell_type": "code",
   "execution_count": 71,
   "id": "e9795656-8cc5-44bb-8a65-1a5173d3b3b3",
   "metadata": {},
   "outputs": [
    {
     "data": {
      "text/plain": [
       "0.7546583850931677"
      ]
     },
     "execution_count": 71,
     "metadata": {},
     "output_type": "execute_result"
    }
   ],
   "source": [
    "I_C_high = l_1_high[:,2] >= max(l_1_high[:,0].mean(), l_1_high[:,1].mean(), l_1_high[:,2].mean())\n",
    "len(l_1_high[I_C_high]) / len(l_1_high)"
   ]
  },
  {
   "cell_type": "code",
   "execution_count": 72,
   "id": "a16748cb-a484-43f7-a77a-6cf2016d54cb",
   "metadata": {},
   "outputs": [
    {
     "data": {
      "text/plain": [
       "93"
      ]
     },
     "execution_count": 72,
     "metadata": {},
     "output_type": "execute_result"
    }
   ],
   "source": [
    "# Low, Low\n",
    "I_low = a1[:,0] >= max(a1[:,0].mean(), a1[:,1].mean(), a1[:,2].mean())\n",
    "a1_1_low = a1[I_low]\n",
    "a2_1_low = a2[I_low]\n",
    "a3_1_low = a3[I_low]\n",
    "l_1_low = l[I_low]\n",
    "I_low_low = a2_1_low[:,0] >= max(a2_1_low[:,0].mean(), a2_1_low[:,1].mean(), a2_1_low[:,2].mean())\n",
    "len(I_low_low[I_low_low == True])"
   ]
  },
  {
   "cell_type": "code",
   "execution_count": 73,
   "id": "82676242-29a2-4134-9eff-982b6ff04efd",
   "metadata": {},
   "outputs": [],
   "source": [
    "a3_low_low = a3_1_low[I_low_low]\n",
    "l_low_low = l_1_low[I_low_low]"
   ]
  },
  {
   "cell_type": "code",
   "execution_count": 74,
   "id": "24a194ca-529a-4100-b3b4-4a32a886f8f3",
   "metadata": {},
   "outputs": [
    {
     "data": {
      "text/plain": [
       "0.7096774193548387"
      ]
     },
     "execution_count": 74,
     "metadata": {},
     "output_type": "execute_result"
    }
   ],
   "source": [
    "I_C_low = l_low_low[:,0] >= max(l_low_low[:,0].mean(), l_low_low[:,1].mean(), l_low_low[:,2].mean())\n",
    "len(l_low_low[I_C_low]) / len(l_low_low)"
   ]
  },
  {
   "cell_type": "code",
   "execution_count": 75,
   "id": "86e0f941-6977-427f-b003-31ae647f8b68",
   "metadata": {},
   "outputs": [
    {
     "data": {
      "text/plain": [
       "0.0"
      ]
     },
     "execution_count": 75,
     "metadata": {},
     "output_type": "execute_result"
    }
   ],
   "source": [
    "I_C_medium = l_low_low[:,1] >= max(l_low_low[:,0].mean(), l_low_low[:,1].mean(), l_low_low[:,2].mean())\n",
    "len(l_low_low[I_C_medium]) / len(l_low_low)"
   ]
  },
  {
   "cell_type": "code",
   "execution_count": 76,
   "id": "a8b5016e-e4ef-4504-814c-56eaceb4777b",
   "metadata": {},
   "outputs": [
    {
     "data": {
      "text/plain": [
       "0.0"
      ]
     },
     "execution_count": 76,
     "metadata": {},
     "output_type": "execute_result"
    }
   ],
   "source": [
    "I_C_high = l_low_low[:,2] >= max(l_low_low[:,0].mean(), l_low_low[:,1].mean(), l_low_low[:,2].mean())\n",
    "len(l_low_low[I_C_high]) / len(l_low_low)"
   ]
  },
  {
   "cell_type": "code",
   "execution_count": 77,
   "id": "94333a32-a39f-48ad-b492-b3deaba5e42c",
   "metadata": {},
   "outputs": [
    {
     "data": {
      "text/plain": [
       "140"
      ]
     },
     "execution_count": 77,
     "metadata": {},
     "output_type": "execute_result"
    }
   ],
   "source": [
    "# Low, Medium\n",
    "I_low = a1[:,0] >= max(a1[:,0].mean(), a1[:,1].mean(), a1[:,2].mean())\n",
    "a1_1_low = a1[I_low]\n",
    "a2_1_low = a2[I_low]\n",
    "a3_1_low = a3[I_low]\n",
    "l_1_low = l[I_low]\n",
    "I_low_medium = a2_1_low[:,1] >= max(a2_1_low[:,0].mean(), a2_1_low[:,1].mean(), a2_1_low[:,2].mean())\n",
    "len(I_low_medium[I_low_medium == True])"
   ]
  },
  {
   "cell_type": "code",
   "execution_count": 78,
   "id": "4fe062b3-630c-4357-986c-bb86f7e24b26",
   "metadata": {},
   "outputs": [],
   "source": [
    "a3_low_medium = a3_1_low[I_low_medium]\n",
    "l_low_medium = l_1_low[I_low_medium]"
   ]
  },
  {
   "cell_type": "code",
   "execution_count": 79,
   "id": "1b40939e-091d-4d67-ab02-4bb7e67ee708",
   "metadata": {},
   "outputs": [
    {
     "data": {
      "text/plain": [
       "0.5071428571428571"
      ]
     },
     "execution_count": 79,
     "metadata": {},
     "output_type": "execute_result"
    }
   ],
   "source": [
    "I_C_low = l_low_medium[:,0] >= max(l_low_medium[:,0].mean(), l_low_medium[:,1].mean(), l_low_medium[:,2].mean())\n",
    "len(l_low_medium[I_C_low]) / len(l_low_medium)"
   ]
  },
  {
   "cell_type": "code",
   "execution_count": 80,
   "id": "6acf7de9-8fec-40fd-a4f3-015f61a6a2ec",
   "metadata": {},
   "outputs": [
    {
     "data": {
      "text/plain": [
       "0.42857142857142855"
      ]
     },
     "execution_count": 80,
     "metadata": {},
     "output_type": "execute_result"
    }
   ],
   "source": [
    "I_C_medium = l_low_medium[:,1] >= max(l_low_medium[:,0].mean(), l_low_medium[:,1].mean(), l_low_medium[:,2].mean())\n",
    "len(l_low_medium[I_C_medium]) / len(l_low_medium)"
   ]
  },
  {
   "cell_type": "code",
   "execution_count": 81,
   "id": "5a2ee7a9-9782-41b4-acd8-731f06c2e88e",
   "metadata": {},
   "outputs": [
    {
     "data": {
      "text/plain": [
       "0.0"
      ]
     },
     "execution_count": 81,
     "metadata": {},
     "output_type": "execute_result"
    }
   ],
   "source": [
    "I_C_high = l_low_medium[:,2] >= max(l_low_medium[:,0].mean(), l_low_medium[:,1].mean(), l_low_medium[:,2].mean())\n",
    "len(l_low_medium[I_C_high]) / len(l_low_medium)"
   ]
  },
  {
   "cell_type": "code",
   "execution_count": 82,
   "id": "118d0786-41fc-4a94-85cb-67ee19c7a59f",
   "metadata": {},
   "outputs": [],
   "source": [
    "I_l_m_low = a3_low_medium[:,0] >= max(a3_low_medium[:,0].mean(), a3_low_medium[:,1].mean(), a3_low_medium[:,2].mean())\n",
    "I_l_m_medium = a3_low_medium[:,1] >= max(a3_low_medium[:,0].mean(), a3_low_medium[:,1].mean(), a3_low_medium[:,2].mean())\n",
    "I_l_m_high = a3_low_medium[:,2] >= max(a3_low_medium[:,0].mean(), a3_low_medium[:,1].mean(), a3_low_medium[:,2].mean())"
   ]
  },
  {
   "cell_type": "code",
   "execution_count": 83,
   "id": "5bb62e15-44af-4b64-b7e1-eea004dc6cd6",
   "metadata": {},
   "outputs": [
    {
     "name": "stdout",
     "output_type": "stream",
     "text": [
      "0.44680851063829785 0.5319148936170213 0.0\n"
     ]
    }
   ],
   "source": [
    "l_l_m_low = l_low_medium[I_l_m_low]\n",
    "I_C_low = l_l_m_low[:,0] >= max(l_l_m_low[:,0].mean(), l_l_m_low[:,1].mean(), l_l_m_low[:,2].mean())\n",
    "pl = len(l_l_m_low[I_C_low]) / len(l_l_m_low)\n",
    "I_C_medium = l_l_m_low[:,1] >= max(l_l_m_low[:,0].mean(), l_l_m_low[:,1].mean(), l_l_m_low[:,2].mean())\n",
    "pm = len(l_l_m_low[I_C_medium]) / len(l_l_m_low)\n",
    "I_C_high = l_l_m_low[:,2] >= max(l_l_m_low[:,0].mean(), l_l_m_low[:,1].mean(), l_l_m_low[:,2].mean())\n",
    "ph = len(l_l_m_low[I_C_high]) / len(l_l_m_low)\n",
    "print(pl, pm, ph)"
   ]
  },
  {
   "cell_type": "code",
   "execution_count": 84,
   "id": "8ee2968e-5073-43ff-be90-d48ff930ab8a",
   "metadata": {},
   "outputs": [
    {
     "name": "stdout",
     "output_type": "stream",
     "text": [
      "0.5692307692307692 0.3230769230769231 0.0\n"
     ]
    }
   ],
   "source": [
    "l_l_m_medium = l_low_medium[I_l_m_medium]\n",
    "I_C_low = l_l_m_medium[:,0] >= max(l_l_m_medium[:,0].mean(), l_l_m_medium[:,1].mean(), l_l_m_medium[:,2].mean())\n",
    "pl = len(l_l_m_medium[I_C_low]) / len(l_l_m_medium)\n",
    "I_C_medium = l_l_m_medium[:,1] >= max(l_l_m_medium[:,0].mean(), l_l_m_medium[:,1].mean(), l_l_m_medium[:,2].mean())\n",
    "pm = len(l_l_m_medium[I_C_medium]) / len(l_l_m_medium)\n",
    "I_C_high = l_l_m_medium[:,2] >= max(l_l_m_medium[:,0].mean(), l_l_m_medium[:,1].mean(), l_l_m_medium[:,2].mean())\n",
    "ph = len(l_l_m_medium[I_C_high]) / len(l_l_m_medium)\n",
    "print(pl, pm, ph)"
   ]
  },
  {
   "cell_type": "code",
   "execution_count": 85,
   "id": "236e30ff-44e4-4558-96b4-e8e67d7d3479",
   "metadata": {},
   "outputs": [
    {
     "name": "stdout",
     "output_type": "stream",
     "text": [
      "0.4418604651162791 0.5116279069767442 0.0\n"
     ]
    }
   ],
   "source": [
    "l_l_m_high = l_low_medium[I_l_m_high]\n",
    "I_C_low = l_l_m_high[:,0] >= max(l_l_m_high[:,0].mean(), l_l_m_high[:,1].mean(), l_l_m_high[:,2].mean())\n",
    "pl = len(l_l_m_high[I_C_low]) / len(l_l_m_high)\n",
    "I_C_medium = l_l_m_high[:,1] >= max(l_l_m_high[:,0].mean(), l_l_m_high[:,1].mean(), l_l_m_high[:,2].mean())\n",
    "pm = len(l_l_m_high[I_C_medium]) / len(l_l_m_high)\n",
    "I_C_high = l_l_m_high[:,2] >= max(l_l_m_high[:,0].mean(), l_l_m_high[:,1].mean(), l_l_m_high[:,2].mean())\n",
    "ph = len(l_l_m_high[I_C_high]) / len(l_l_m_high)\n",
    "print(pl, pm, ph)"
   ]
  },
  {
   "cell_type": "code",
   "execution_count": 86,
   "id": "0eacdb9a-afa8-4ec9-a7ea-ec4bc4b07a37",
   "metadata": {},
   "outputs": [
    {
     "data": {
      "text/plain": [
       "0.51679224"
      ]
     },
     "execution_count": 86,
     "metadata": {},
     "output_type": "execute_result"
    }
   ],
   "source": [
    "max(l_l_m_high[:,0].mean(), l_l_m_high[:,1].mean(), l_l_m_high[:,2].mean())"
   ]
  },
  {
   "cell_type": "code",
   "execution_count": 87,
   "id": "4d2c1c01-8050-4921-8d39-2eb88ab8d735",
   "metadata": {},
   "outputs": [
    {
     "data": {
      "text/plain": [
       "111"
      ]
     },
     "execution_count": 87,
     "metadata": {},
     "output_type": "execute_result"
    }
   ],
   "source": [
    "# Low, High\n",
    "I_low = a1[:,0] >= max(a1[:,0].mean(), a1[:,1].mean(), a1[:,2].mean())\n",
    "a1_1_low = a1[I_low]\n",
    "a2_1_low = a2[I_low]\n",
    "a3_1_low = a3[I_low]\n",
    "l_1_low = l[I_low]\n",
    "I_low_high = a2_1_low[:,2] >= max(a2_1_low[:,0].mean(), a2_1_low[:,1].mean(), a2_1_low[:,2].mean())\n",
    "len(I_low_high[I_low_high == True])"
   ]
  },
  {
   "cell_type": "code",
   "execution_count": 88,
   "id": "07869a19-1f18-4ed5-b993-a9a4dbb6ae03",
   "metadata": {},
   "outputs": [],
   "source": [
    "a3_low_high = a3_1_low[I_low_high]\n",
    "l_low_high = l_1_low[I_low_high]"
   ]
  },
  {
   "cell_type": "code",
   "execution_count": 89,
   "id": "803e7014-22c8-4791-b8c1-f4b6bd11d594",
   "metadata": {},
   "outputs": [
    {
     "data": {
      "text/plain": [
       "0.0"
      ]
     },
     "execution_count": 89,
     "metadata": {},
     "output_type": "execute_result"
    }
   ],
   "source": [
    "I_C_low = l_low_high[:,0] >= max(l_low_high[:,0].mean(), l_low_high[:,1].mean(), l_low_high[:,2].mean())\n",
    "len(l_low_high[I_C_low]) / len(l_low_high)"
   ]
  },
  {
   "cell_type": "code",
   "execution_count": 90,
   "id": "2d9ccb16-0a6c-4821-9c38-2d7edce03757",
   "metadata": {},
   "outputs": [
    {
     "data": {
      "text/plain": [
       "0.5405405405405406"
      ]
     },
     "execution_count": 90,
     "metadata": {},
     "output_type": "execute_result"
    }
   ],
   "source": [
    "I_C_medium = l_low_high[:,1] >= max(l_low_high[:,0].mean(), l_low_high[:,1].mean(), l_low_high[:,2].mean())\n",
    "len(l_low_high[I_C_medium]) / len(l_low_high)"
   ]
  },
  {
   "cell_type": "code",
   "execution_count": 91,
   "id": "a981eddf-c4f6-4d90-8bdd-f4608c68c1bb",
   "metadata": {},
   "outputs": [
    {
     "data": {
      "text/plain": [
       "0.4594594594594595"
      ]
     },
     "execution_count": 91,
     "metadata": {},
     "output_type": "execute_result"
    }
   ],
   "source": [
    "I_C_high = l_low_high[:,2] >= max(l_low_high[:,0].mean(), l_low_high[:,1].mean(), l_low_high[:,2].mean())\n",
    "len(l_low_high[I_C_high]) / len(l_low_high)"
   ]
  },
  {
   "cell_type": "code",
   "execution_count": 92,
   "id": "6addc86a-b023-4830-8566-5f9d43c1af40",
   "metadata": {},
   "outputs": [],
   "source": [
    "I_l_h_low = a3_low_high[:,0] >= max(a3_low_high[:,0].mean(), a3_low_high[:,1].mean(), a3_low_high[:,2].mean())\n",
    "I_l_h_medium = a3_low_high[:,1] >= max(a3_low_high[:,0].mean(), a3_low_high[:,1].mean(), a3_low_high[:,2].mean())\n",
    "I_l_h_high = a3_low_high[:,2] >= max(a3_low_high[:,0].mean(), a3_low_high[:,1].mean(), a3_low_high[:,2].mean())"
   ]
  },
  {
   "cell_type": "code",
   "execution_count": 93,
   "id": "f8e6ff25-7002-42b6-90a5-e219d6b717b3",
   "metadata": {},
   "outputs": [
    {
     "name": "stdout",
     "output_type": "stream",
     "text": [
      "0.0 0.4878048780487805 0.5121951219512195\n"
     ]
    }
   ],
   "source": [
    "l_l_h_low = l_low_high[I_l_h_low]\n",
    "I_C_low = l_l_h_low[:,0] >= max(l_l_h_low[:,0].mean(), l_l_h_low[:,1].mean(), l_l_h_low[:,2].mean())\n",
    "pl = len(l_l_h_low[I_C_low]) / len(l_l_h_low)\n",
    "I_C_medium = l_l_h_low[:,1] >= max(l_l_h_low[:,0].mean(), l_l_h_low[:,1].mean(), l_l_h_low[:,2].mean())\n",
    "pm = len(l_l_h_low[I_C_medium]) / len(l_l_h_low)\n",
    "I_C_high = l_l_h_low[:,2] >= max(l_l_h_low[:,0].mean(), l_l_h_low[:,1].mean(), l_l_h_low[:,2].mean())\n",
    "ph = len(l_l_h_low[I_C_high]) / len(l_l_h_low)\n",
    "print(pl, pm, ph)"
   ]
  },
  {
   "cell_type": "code",
   "execution_count": 94,
   "id": "92eb43a3-31c4-4350-b6e3-677857e48c48",
   "metadata": {},
   "outputs": [
    {
     "name": "stdout",
     "output_type": "stream",
     "text": [
      "0.0 0.5740740740740741 0.4074074074074074\n"
     ]
    }
   ],
   "source": [
    "l_l_h_medium = l_low_high[I_l_h_medium]\n",
    "I_C_low = l_l_h_medium[:,0] >= max(l_l_h_medium[:,0].mean(), l_l_h_medium[:,1].mean(), l_l_h_medium[:,2].mean())\n",
    "pl = len(l_l_h_medium[I_C_low]) / len(l_l_h_medium)\n",
    "I_C_medium = l_l_h_medium[:,1] >= max(l_l_h_medium[:,0].mean(), l_l_h_medium[:,1].mean(), l_l_h_medium[:,2].mean())\n",
    "pm = len(l_l_h_medium[I_C_medium]) / len(l_l_h_medium)\n",
    "I_C_high = l_l_h_medium[:,2] >= max(l_l_h_medium[:,0].mean(), l_l_h_medium[:,1].mean(), l_l_h_medium[:,2].mean())\n",
    "ph = len(l_l_h_medium[I_C_high]) / len(l_l_h_medium)\n",
    "print(pl, pm, ph)"
   ]
  },
  {
   "cell_type": "code",
   "execution_count": 95,
   "id": "95e2d0b7-3688-4d92-a4ff-007db85031e3",
   "metadata": {},
   "outputs": [
    {
     "name": "stdout",
     "output_type": "stream",
     "text": [
      "0.0 0.5238095238095238 0.3333333333333333\n"
     ]
    }
   ],
   "source": [
    "l_l_h_high = l_low_high[I_l_h_high]\n",
    "I_C_low = l_l_h_high[:,0] >= max(l_l_h_high[:,0].mean(), l_l_h_high[:,1].mean(), l_l_h_high[:,2].mean())\n",
    "pl = len(l_l_h_high[I_C_low]) / len(l_l_h_high)\n",
    "I_C_medium = l_l_h_high[:,1] >= max(l_l_h_high[:,0].mean(), l_l_h_high[:,1].mean(), l_l_h_high[:,2].mean())\n",
    "pm = len(l_l_h_high[I_C_medium]) / len(l_l_h_high)\n",
    "I_C_high = l_l_h_high[:,2] >= max(l_l_h_high[:,0].mean(), l_l_h_high[:,1].mean(), l_l_h_high[:,2].mean())\n",
    "ph = len(l_l_h_high[I_C_high]) / len(l_l_h_high)\n",
    "print(pl, pm, ph)"
   ]
  },
  {
   "cell_type": "code",
   "execution_count": 96,
   "id": "e968dd06-fef9-45f0-9e1d-c31e8a9accb3",
   "metadata": {},
   "outputs": [
    {
     "name": "stdout",
     "output_type": "stream",
     "text": [
      "440\n"
     ]
    }
   ],
   "source": [
    "I_medium = a1[:,1] >= max(a1[:,0].mean(), a1[:,1].mean(), a1[:,2].mean())\n",
    "print(len(I_medium[I_medium == True]))"
   ]
  },
  {
   "cell_type": "code",
   "execution_count": 97,
   "id": "2ba6849f-5a1f-4988-9511-64e09b71e545",
   "metadata": {},
   "outputs": [],
   "source": [
    "# MEDIUM\n",
    "a1_1_medium = a1[I_medium]\n",
    "a2_1_medium = a2[I_medium]\n",
    "a3_1_medium = a3[I_medium]\n",
    "l_1_medium = l[I_medium]"
   ]
  },
  {
   "cell_type": "code",
   "execution_count": 98,
   "id": "e312a86f-2c5d-46c0-94a3-49964091a8f1",
   "metadata": {},
   "outputs": [
    {
     "name": "stdout",
     "output_type": "stream",
     "text": [
      "138 186 148\n"
     ]
    }
   ],
   "source": [
    "I_low = a2_1_medium[:,0] >= max(a2_1_medium[:,0].mean(), a2_1_medium[:,1].mean(), a2_1_medium[:,2].mean())\n",
    "I_medium = a2_1_medium[:,1] >= max(a2_1_medium[:,0].mean(), a2_1_medium[:,1].mean(), a2_1_medium[:,2].mean())\n",
    "I_high = a2_1_medium[:,2] >= max(a2_1_medium[:,0].mean(), a2_1_medium[:,1].mean(), a2_1_medium[:,2].mean())\n",
    "print(len(I_low[I_low == True]), len(I_medium[I_medium == True]), len(I_high[I_high == True]))"
   ]
  },
  {
   "cell_type": "code",
   "execution_count": 99,
   "id": "1fbd093c-1c40-469a-98d7-a6766cff1eea",
   "metadata": {},
   "outputs": [
    {
     "data": {
      "text/plain": [
       "138"
      ]
     },
     "execution_count": 99,
     "metadata": {},
     "output_type": "execute_result"
    }
   ],
   "source": [
    "# medium, low\n",
    "I_medium = a1[:,1] >= max(a1[:,0].mean(), a1[:,1].mean(), a1[:,2].mean())\n",
    "a1_1_medium = a1[I_medium]\n",
    "a2_1_medium = a2[I_medium]\n",
    "a3_1_medium = a3[I_medium]\n",
    "l_1_medium = l[I_medium]\n",
    "I_medium_low = a2_1_medium[:,0] >= max(a2_1_medium[:,0].mean(), a2_1_medium[:,1].mean(), a2_1_medium[:,2].mean())\n",
    "len(I_medium_low[I_medium_low == True])"
   ]
  },
  {
   "cell_type": "code",
   "execution_count": 100,
   "id": "50689d31-0198-41bd-8e13-4e50166c40db",
   "metadata": {},
   "outputs": [],
   "source": [
    "a3_medium_low = a3_1_medium[I_medium_low]\n",
    "l_medium_low = l_1_medium[I_medium_low]"
   ]
  },
  {
   "cell_type": "code",
   "execution_count": 101,
   "id": "fcef3bc0-f5e5-4662-b2a3-62af64388e83",
   "metadata": {},
   "outputs": [
    {
     "data": {
      "text/plain": [
       "0.0"
      ]
     },
     "execution_count": 101,
     "metadata": {},
     "output_type": "execute_result"
    }
   ],
   "source": [
    "I_C_low = l_medium_low[:,0] >= max(l_medium_low[:,0].mean(), l_medium_low[:,1].mean(), l_medium_low[:,2].mean())\n",
    "len(l_medium_low[I_C_low]) / len(l_medium_low)"
   ]
  },
  {
   "cell_type": "code",
   "execution_count": 102,
   "id": "ad42fc32-3b16-412e-92ff-89136b134f81",
   "metadata": {},
   "outputs": [
    {
     "data": {
      "text/plain": [
       "0.6086956521739131"
      ]
     },
     "execution_count": 102,
     "metadata": {},
     "output_type": "execute_result"
    }
   ],
   "source": [
    "I_C_medium = l_medium_low[:,1] >= max(l_medium_low[:,0].mean(), l_medium_low[:,1].mean(), l_medium_low[:,2].mean())\n",
    "len(l_medium_low[I_C_medium]) / len(l_medium_low)"
   ]
  },
  {
   "cell_type": "code",
   "execution_count": 103,
   "id": "f9388e6b-ccdd-4c51-a1f1-bb5225e5d543",
   "metadata": {},
   "outputs": [
    {
     "data": {
      "text/plain": [
       "0.0"
      ]
     },
     "execution_count": 103,
     "metadata": {},
     "output_type": "execute_result"
    }
   ],
   "source": [
    "I_C_high = l_medium_low[:,2] >= max(l_medium_low[:,0].mean(), l_medium_low[:,1].mean(), l_medium_low[:,2].mean())\n",
    "len(l_medium_low[I_C_high]) / len(l_medium_low)"
   ]
  },
  {
   "cell_type": "code",
   "execution_count": 104,
   "id": "1682a7a9-a979-4328-bff3-f80c64b9f1cf",
   "metadata": {},
   "outputs": [],
   "source": [
    "I_m_l_low = a3_medium_low[:,0] >= max(a3_medium_low[:,0].mean(), a3_medium_low[:,1].mean(), a3_medium_low[:,2].mean())\n",
    "I_m_l_medium = a3_medium_low[:,1] >= max(a3_medium_low[:,0].mean(), a3_medium_low[:,1].mean(), a3_medium_low[:,2].mean())\n",
    "I_m_l_high = a3_medium_low[:,2] >= max(a3_medium_low[:,0].mean(), a3_medium_low[:,1].mean(), a3_medium_low[:,2].mean())"
   ]
  },
  {
   "cell_type": "code",
   "execution_count": 105,
   "id": "63bcb90e-085d-490a-8c93-c686b11ba680",
   "metadata": {},
   "outputs": [
    {
     "name": "stdout",
     "output_type": "stream",
     "text": [
      "0.0 0.6410256410256411 0.0\n"
     ]
    }
   ],
   "source": [
    "l_m_l_low = l_medium_low[I_m_l_low]\n",
    "I_C_low = l_m_l_low[:,0] >= max(l_m_l_low[:,0].mean(), l_m_l_low[:,1].mean(), l_m_l_low[:,2].mean())\n",
    "pl = len(l_m_l_low[I_C_low]) / len(l_m_l_low)\n",
    "I_C_medium = l_m_l_low[:,1] >= max(l_m_l_low[:,0].mean(), l_m_l_low[:,1].mean(), l_m_l_low[:,2].mean())\n",
    "pm = len(l_m_l_low[I_C_medium]) / len(l_m_l_low)\n",
    "I_C_high = l_m_l_low[:,2] >= max(l_m_l_low[:,0].mean(), l_m_l_low[:,1].mean(), l_m_l_low[:,2].mean())\n",
    "ph = len(l_m_l_low[I_C_high]) / len(l_m_l_low)\n",
    "print(pl, pm, ph)"
   ]
  },
  {
   "cell_type": "code",
   "execution_count": 106,
   "id": "f23b4f5a-50ba-4ddc-9197-c88f1e625fcd",
   "metadata": {},
   "outputs": [
    {
     "name": "stdout",
     "output_type": "stream",
     "text": [
      "0.0 0.6 0.0\n"
     ]
    }
   ],
   "source": [
    "l_m_l_medium = l_medium_low[I_m_l_medium]\n",
    "I_C_low = l_m_l_medium[:,0] >= max(l_m_l_medium[:,0].mean(), l_m_l_medium[:,1].mean(), l_m_l_medium[:,2].mean())\n",
    "pl = len(l_m_l_medium[I_C_low]) / len(l_m_l_medium)\n",
    "I_C_medium = l_m_l_medium[:,1] >= max(l_m_l_medium[:,0].mean(), l_m_l_medium[:,1].mean(), l_m_l_medium[:,2].mean())\n",
    "pm = len(l_m_l_medium[I_C_medium]) / len(l_m_l_medium)\n",
    "I_C_high = l_m_l_medium[:,2] >= max(l_m_l_medium[:,0].mean(), l_m_l_medium[:,1].mean(), l_m_l_medium[:,2].mean())\n",
    "ph = len(l_m_l_medium[I_C_high]) / len(l_m_l_medium)\n",
    "print(pl, pm, ph)"
   ]
  },
  {
   "cell_type": "code",
   "execution_count": 107,
   "id": "150141ff-2757-4ac7-ade5-ab85d58162de",
   "metadata": {},
   "outputs": [
    {
     "name": "stdout",
     "output_type": "stream",
     "text": [
      "0.0 0.5957446808510638 0.0\n"
     ]
    }
   ],
   "source": [
    "l_m_l_high = l_medium_low[I_m_l_high]\n",
    "I_C_low = l_m_l_high[:,0] >= max(l_m_l_high[:,0].mean(), l_m_l_high[:,1].mean(), l_m_l_high[:,2].mean())\n",
    "pl = len(l_m_l_high[I_C_low]) / len(l_m_l_high)\n",
    "I_C_medium = l_m_l_high[:,1] >= max(l_m_l_high[:,0].mean(), l_m_l_high[:,1].mean(), l_m_l_high[:,2].mean())\n",
    "pm = len(l_m_l_high[I_C_medium]) / len(l_m_l_high)\n",
    "I_C_high = l_m_l_high[:,2] >= max(l_m_l_high[:,0].mean(), l_m_l_high[:,1].mean(), l_m_l_high[:,2].mean())\n",
    "ph = len(l_m_l_high[I_C_high]) / len(l_m_l_high)\n",
    "print(pl, pm, ph)"
   ]
  },
  {
   "cell_type": "code",
   "execution_count": 108,
   "id": "cf402d3c-2c2c-4fc5-851e-14273e5fe0bb",
   "metadata": {},
   "outputs": [
    {
     "data": {
      "text/plain": [
       "186"
      ]
     },
     "execution_count": 108,
     "metadata": {},
     "output_type": "execute_result"
    }
   ],
   "source": [
    "# medium, medium\n",
    "I_medium = a1[:,1] >= max(a1[:,0].mean(), a1[:,1].mean(), a1[:,2].mean())\n",
    "a1_1_medium = a1[I_medium]\n",
    "a2_1_medium = a2[I_medium]\n",
    "a3_1_medium = a3[I_medium]\n",
    "l_1_medium = l[I_medium]\n",
    "I_medium_medium = a2_1_medium[:,1] >= max(a2_1_medium[:,0].mean(), a2_1_medium[:,1].mean(), a2_1_medium[:,2].mean())\n",
    "len(I_medium_medium[I_medium_medium == True])"
   ]
  },
  {
   "cell_type": "code",
   "execution_count": 109,
   "id": "8c5eed77-d26d-470f-9912-d70dabcad08a",
   "metadata": {},
   "outputs": [],
   "source": [
    "a3_medium_medium = a3_1_medium[I_medium_medium]\n",
    "l_medium_medium = l_1_medium[I_medium_medium]"
   ]
  },
  {
   "cell_type": "code",
   "execution_count": 110,
   "id": "d32cc9c7-3465-4b61-b4c2-5e8ff2b28525",
   "metadata": {},
   "outputs": [
    {
     "data": {
      "text/plain": [
       "0.0"
      ]
     },
     "execution_count": 110,
     "metadata": {},
     "output_type": "execute_result"
    }
   ],
   "source": [
    "I_C_low = l_medium_medium[:,0] >= max(l_medium_medium[:,0].mean(), l_medium_medium[:,1].mean(), l_medium_medium[:,2].mean())\n",
    "len(l_medium_medium[I_C_low]) / len(l_medium_medium)"
   ]
  },
  {
   "cell_type": "code",
   "execution_count": 111,
   "id": "81b9d549-261c-4d15-855b-1b5864d66eb3",
   "metadata": {},
   "outputs": [
    {
     "data": {
      "text/plain": [
       "0.6290322580645161"
      ]
     },
     "execution_count": 111,
     "metadata": {},
     "output_type": "execute_result"
    }
   ],
   "source": [
    "I_C_medium = l_medium_medium[:,1] >= max(l_medium_medium[:,0].mean(), l_medium_medium[:,1].mean(), l_medium_medium[:,2].mean())\n",
    "len(l_medium_medium[I_C_medium]) / len(l_medium_medium)"
   ]
  },
  {
   "cell_type": "code",
   "execution_count": 112,
   "id": "896955c0-6db2-49a1-a3cf-811ef9e2e9cf",
   "metadata": {},
   "outputs": [
    {
     "data": {
      "text/plain": [
       "0.0"
      ]
     },
     "execution_count": 112,
     "metadata": {},
     "output_type": "execute_result"
    }
   ],
   "source": [
    "I_C_high = l_medium_medium[:,2] >= max(l_medium_medium[:,0].mean(), l_medium_medium[:,1].mean(), l_medium_medium[:,2].mean())\n",
    "len(l_medium_medium[I_C_high]) / len(l_medium_medium)"
   ]
  },
  {
   "cell_type": "code",
   "execution_count": 113,
   "id": "a6c0c8cb-70de-442e-b937-13991a8d6cf4",
   "metadata": {},
   "outputs": [],
   "source": [
    "I_m_m_low = a3_medium_medium[:,0] >= max(a3_medium_medium[:,0].mean(), a3_medium_medium[:,1].mean(), a3_medium_medium[:,2].mean())\n",
    "I_m_m_medium = a3_medium_medium[:,1] >= max(a3_medium_medium[:,0].mean(), a3_medium_medium[:,1].mean(), a3_medium_medium[:,2].mean())\n",
    "I_m_m_high = a3_medium_medium[:,2] >= max(a3_medium_medium[:,0].mean(), a3_medium_medium[:,1].mean(), a3_medium_medium[:,2].mean())"
   ]
  },
  {
   "cell_type": "code",
   "execution_count": 114,
   "id": "b01b8bd7-27ed-43e4-8597-363ff9eb1e55",
   "metadata": {},
   "outputs": [
    {
     "name": "stdout",
     "output_type": "stream",
     "text": [
      "0.0 0.6307692307692307 0.0\n"
     ]
    }
   ],
   "source": [
    "l_m_m_low = l_medium_medium[I_m_m_low]\n",
    "I_C_low = l_m_m_low[:,0] >= max(l_m_m_low[:,0].mean(), l_m_m_low[:,1].mean(), l_m_m_low[:,2].mean())\n",
    "pl = len(l_m_m_low[I_C_low]) / len(l_m_m_low)\n",
    "I_C_medium = l_m_m_low[:,1] >= max(l_m_m_low[:,0].mean(), l_m_m_low[:,1].mean(), l_m_m_low[:,2].mean())\n",
    "pm = len(l_m_m_low[I_C_medium]) / len(l_m_m_low)\n",
    "I_C_high = l_m_m_low[:,2] >= max(l_m_m_low[:,0].mean(), l_m_m_low[:,1].mean(), l_m_m_low[:,2].mean())\n",
    "ph = len(l_m_m_low[I_C_high]) / len(l_m_m_low)\n",
    "print(pl, pm, ph)"
   ]
  },
  {
   "cell_type": "code",
   "execution_count": 115,
   "id": "55b7aa09-06d0-4a16-97ce-ab6b48cc44a4",
   "metadata": {},
   "outputs": [
    {
     "name": "stdout",
     "output_type": "stream",
     "text": [
      "0.0 0.6235294117647059 0.0\n"
     ]
    }
   ],
   "source": [
    "l_m_m_medium = l_medium_medium[I_m_m_medium]\n",
    "I_C_low = l_m_m_medium[:,0] >= max(l_m_m_medium[:,0].mean(), l_m_m_medium[:,1].mean(), l_m_m_medium[:,2].mean())\n",
    "pl = len(l_m_m_medium[I_C_low]) / len(l_m_m_medium)\n",
    "I_C_medium = l_m_m_medium[:,1] >= max(l_m_m_medium[:,0].mean(), l_m_m_medium[:,1].mean(), l_m_m_medium[:,2].mean())\n",
    "pm = len(l_m_m_medium[I_C_medium]) / len(l_m_m_medium)\n",
    "I_C_high = l_m_m_medium[:,2] >= max(l_m_m_medium[:,0].mean(), l_m_m_medium[:,1].mean(), l_m_m_medium[:,2].mean())\n",
    "ph = len(l_m_m_medium[I_C_high]) / len(l_m_m_medium)\n",
    "print(pl, pm, ph)"
   ]
  },
  {
   "cell_type": "code",
   "execution_count": 116,
   "id": "e2c5abab-06be-4aab-aec4-2488e64c5ba9",
   "metadata": {},
   "outputs": [
    {
     "name": "stdout",
     "output_type": "stream",
     "text": [
      "0.0 0.6666666666666666 0.0\n"
     ]
    }
   ],
   "source": [
    "l_m_m_high = l_medium_medium[I_m_m_high]\n",
    "I_C_low = l_m_m_high[:,0] >= max(l_m_m_high[:,0].mean(), l_m_m_high[:,1].mean(), l_m_m_high[:,2].mean())\n",
    "pl = len(l_m_m_high[I_C_low]) / len(l_m_m_high)\n",
    "I_C_medium = l_m_m_high[:,1] >= max(l_m_m_high[:,0].mean(), l_m_m_high[:,1].mean(), l_m_m_high[:,2].mean())\n",
    "pm = len(l_m_m_high[I_C_medium]) / len(l_m_m_high)\n",
    "I_C_high = l_m_m_high[:,2] >= max(l_m_m_high[:,0].mean(), l_m_m_high[:,1].mean(), l_m_m_high[:,2].mean())\n",
    "ph = len(l_m_m_high[I_C_high]) / len(l_m_m_high)\n",
    "print(pl, pm, ph)"
   ]
  },
  {
   "cell_type": "code",
   "execution_count": 117,
   "id": "0a2d45fd-e13f-41b4-af6f-e1dec2d76877",
   "metadata": {},
   "outputs": [
    {
     "data": {
      "text/plain": [
       "148"
      ]
     },
     "execution_count": 117,
     "metadata": {},
     "output_type": "execute_result"
    }
   ],
   "source": [
    "# medium, high\n",
    "I_medium = a1[:,1] >= max(a1[:,0].mean(), a1[:,1].mean(), a1[:,2].mean())\n",
    "a1_1_medium = a1[I_medium]\n",
    "a2_1_medium = a2[I_medium]\n",
    "a3_1_medium = a3[I_medium]\n",
    "l_1_medium = l[I_medium]\n",
    "I_medium_high = a2_1_medium[:,2] >= max(a2_1_medium[:,0].mean(), a2_1_medium[:,1].mean(), a2_1_medium[:,2].mean())\n",
    "len(I_medium_high[I_medium_high == True])"
   ]
  },
  {
   "cell_type": "code",
   "execution_count": 118,
   "id": "6ef29b98-0d99-4537-9c9f-8c13fccf3e98",
   "metadata": {},
   "outputs": [],
   "source": [
    "a3_medium_high = a3_1_medium[I_medium_high]\n",
    "l_medium_high = l_1_medium[I_medium_high]"
   ]
  },
  {
   "cell_type": "code",
   "execution_count": 119,
   "id": "185ead5e-d7d6-449c-ac78-e3066a01b696",
   "metadata": {},
   "outputs": [
    {
     "data": {
      "text/plain": [
       "0.0"
      ]
     },
     "execution_count": 119,
     "metadata": {},
     "output_type": "execute_result"
    }
   ],
   "source": [
    "I_C_low = l_medium_high[:,0] >= max(l_medium_high[:,0].mean(), l_medium_high[:,1].mean(), l_medium_high[:,2].mean())\n",
    "len(l_medium_high[I_C_low]) / len(l_medium_high)"
   ]
  },
  {
   "cell_type": "code",
   "execution_count": 120,
   "id": "4c31e1ee-9ee9-445b-a525-4e2c69e8e120",
   "metadata": {},
   "outputs": [
    {
     "data": {
      "text/plain": [
       "0.4594594594594595"
      ]
     },
     "execution_count": 120,
     "metadata": {},
     "output_type": "execute_result"
    }
   ],
   "source": [
    "I_C_medium = l_medium_high[:,1] >= max(l_medium_high[:,0].mean(), l_medium_high[:,1].mean(), l_medium_high[:,2].mean())\n",
    "len(l_medium_high[I_C_medium]) / len(l_medium_high)"
   ]
  },
  {
   "cell_type": "code",
   "execution_count": 121,
   "id": "4260be48-deab-45d8-97ba-a582411d92fb",
   "metadata": {},
   "outputs": [
    {
     "data": {
      "text/plain": [
       "0.4864864864864865"
      ]
     },
     "execution_count": 121,
     "metadata": {},
     "output_type": "execute_result"
    }
   ],
   "source": [
    "I_C_high = l_medium_high[:,2] >= max(l_medium_high[:,0].mean(), l_medium_high[:,1].mean(), l_medium_high[:,2].mean())\n",
    "len(l_medium_high[I_C_high]) / len(l_medium_high)"
   ]
  },
  {
   "cell_type": "code",
   "execution_count": 122,
   "id": "daae2f8b-e651-49e1-b345-61960aa904ec",
   "metadata": {},
   "outputs": [],
   "source": [
    "I_m_h_low = a3_medium_high[:,0] >= max(a3_medium_high[:,0].mean(), a3_medium_high[:,1].mean(), a3_medium_high[:,2].mean())\n",
    "I_m_h_medium = a3_medium_high[:,1] >= max(a3_medium_high[:,0].mean(), a3_medium_high[:,1].mean(), a3_medium_high[:,2].mean())\n",
    "I_m_h_high = a3_medium_high[:,2] >= max(a3_medium_high[:,0].mean(), a3_medium_high[:,1].mean(), a3_medium_high[:,2].mean())"
   ]
  },
  {
   "cell_type": "code",
   "execution_count": 123,
   "id": "9c8f4788-892d-42b4-8e92-9970e9c46a53",
   "metadata": {},
   "outputs": [
    {
     "name": "stdout",
     "output_type": "stream",
     "text": [
      "0.0 0.4888888888888889 0.4666666666666667\n"
     ]
    }
   ],
   "source": [
    "l_m_h_low = l_medium_high[I_m_h_low]\n",
    "I_C_low = l_m_h_low[:,0] >= max(l_m_h_low[:,0].mean(), l_m_h_low[:,1].mean(), l_m_h_low[:,2].mean())\n",
    "pl = len(l_m_h_low[I_C_low]) / len(l_m_h_low)\n",
    "I_C_medium = l_m_h_low[:,1] >= max(l_m_h_low[:,0].mean(), l_m_h_low[:,1].mean(), l_m_h_low[:,2].mean())\n",
    "pm = len(l_m_h_low[I_C_medium]) / len(l_m_h_low)\n",
    "I_C_high = l_m_h_low[:,2] >= max(l_m_h_low[:,0].mean(), l_m_h_low[:,1].mean(), l_m_h_low[:,2].mean())\n",
    "ph = len(l_m_h_low[I_C_high]) / len(l_m_h_low)\n",
    "print(pl, pm, ph)"
   ]
  },
  {
   "cell_type": "code",
   "execution_count": 124,
   "id": "4ab64285-2e32-4882-89b8-72bc5cd88b3b",
   "metadata": {},
   "outputs": [
    {
     "name": "stdout",
     "output_type": "stream",
     "text": [
      "0.0 0.4931506849315068 0.4931506849315068\n"
     ]
    }
   ],
   "source": [
    "l_m_h_medium = l_medium_high[I_m_h_medium]\n",
    "I_C_low = l_m_h_medium[:,0] >= max(l_m_h_medium[:,0].mean(), l_m_h_medium[:,1].mean(), l_m_h_medium[:,2].mean())\n",
    "pl = len(l_m_h_medium[I_C_low]) / len(l_m_h_medium)\n",
    "I_C_medium = l_m_h_medium[:,1] >= max(l_m_h_medium[:,0].mean(), l_m_h_medium[:,1].mean(), l_m_h_medium[:,2].mean())\n",
    "pm = len(l_m_h_medium[I_C_medium]) / len(l_m_h_medium)\n",
    "I_C_high = l_m_h_medium[:,2] >= max(l_m_h_medium[:,0].mean(), l_m_h_medium[:,1].mean(), l_m_h_medium[:,2].mean())\n",
    "ph = len(l_m_h_medium[I_C_high]) / len(l_m_h_medium)\n",
    "print(pl, pm, ph)"
   ]
  },
  {
   "cell_type": "code",
   "execution_count": 125,
   "id": "739f73aa-10a7-433c-b0f9-3ce2f7a7ec59",
   "metadata": {},
   "outputs": [
    {
     "name": "stdout",
     "output_type": "stream",
     "text": [
      "0.0 0.4146341463414634 0.4878048780487805\n"
     ]
    }
   ],
   "source": [
    "l_m_h_high = l_medium_high[I_m_h_high]\n",
    "I_C_low = l_m_h_high[:,0] >= max(l_m_h_high[:,0].mean(), l_m_h_high[:,1].mean(), l_m_h_high[:,2].mean())\n",
    "pl = len(l_m_h_high[I_C_low]) / len(l_m_h_high)\n",
    "I_C_medium = l_m_h_high[:,1] >= max(l_m_h_high[:,0].mean(), l_m_h_high[:,1].mean(), l_m_h_high[:,2].mean())\n",
    "pm = len(l_m_h_high[I_C_medium]) / len(l_m_h_high)\n",
    "I_C_high = l_m_h_high[:,2] >= max(l_m_h_high[:,0].mean(), l_m_h_high[:,1].mean(), l_m_h_high[:,2].mean())\n",
    "ph = len(l_m_h_high[I_C_high]) / len(l_m_h_high)\n",
    "print(pl, pm, ph)"
   ]
  },
  {
   "cell_type": "code",
   "execution_count": null,
   "id": "568d04f9-2a2b-4ba2-8b0b-2db3e996d940",
   "metadata": {},
   "outputs": [],
   "source": []
  }
 ],
 "metadata": {
  "kernelspec": {
   "display_name": "Python 3 (ipykernel)",
   "language": "python",
   "name": "python3"
  },
  "language_info": {
   "codemirror_mode": {
    "name": "ipython",
    "version": 3
   },
   "file_extension": ".py",
   "mimetype": "text/x-python",
   "name": "python",
   "nbconvert_exporter": "python",
   "pygments_lexer": "ipython3",
   "version": "3.10.14"
  }
 },
 "nbformat": 4,
 "nbformat_minor": 5
}
